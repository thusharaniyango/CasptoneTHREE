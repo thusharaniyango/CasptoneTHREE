{
 "cells": [
  {
   "cell_type": "markdown",
   "id": "6ebbf5ae",
   "metadata": {},
   "source": [
    "# Pre-Processing and Modeling <a id='Contents'></a>\n",
    "* [Overview](#Overview)\n",
    "* [Import Packages and Load Data](#Import_packages)\n",
    "* [Dummy Features](#Dummy_Features)\n",
    "* [Train-Test Split](#Train_Test_Split)\n",
    "* [Standardize / Normalize](#Standardize_Normalize)\n",
    "* [Model Building](#Model_Building)\n",
    "* [Conclusion](#Conclusion)"
   ]
  },
  {
   "cell_type": "markdown",
   "id": "89b5ff08",
   "metadata": {},
   "source": [
    "## Overview  <a id = 'Overview'></a>"
   ]
  },
  {
   "cell_type": "markdown",
   "id": "b06a4fde",
   "metadata": {},
   "source": [
    "The main objectives of this Note book is to prepare the dataset (Pre-Process) so that the data can be split fpr training and testing.\n",
    "-  1. Prepare Categorial features for m\n",
    "-  2. Transform the Numerical features\n",
    "\n",
    "\n",
    "**The ModelReady_LoanDefault.csv Features**</br>\n",
    "Categorical Features:  Education, Employment Type, Loan Purpose, MaritalStatus, HasMortgage, HasDependents, HasCoSigner</br>\n",
    "Numerical Features: Age, Income, LoanAmount, CreditScore, MonthsEmployed, NumCreditLines, InterestRate, LoanTerm, DTIRatio\n",
    "\n",
    "Target Variable: Default (A binary value to indicate Load Default (1), No Default (0)\n",
    "\n"
   ]
  },
  {
   "cell_type": "markdown",
   "id": "46a9cc86",
   "metadata": {},
   "source": [
    "## Import Packages and Load Data  <a id = 'Import_packages'></a>"
   ]
  },
  {
   "cell_type": "code",
   "execution_count": 1,
   "id": "facb1e68",
   "metadata": {},
   "outputs": [],
   "source": [
    "#Import Packages\n",
    "import warnings\n",
    "warnings.filterwarnings('ignore')\n",
    "import pandas as pd\n",
    "import numpy as np\n",
    "\n",
    "import seaborn as sns\n",
    "import matplotlib.pyplot as plt\n",
    "\n",
    "from sklearn.model_selection import train_test_split\n",
    "from sklearn.preprocessing import StandardScaler\n",
    "from sklearn.neighbors import KNeighborsClassifier\n",
    "from sklearn.metrics import confusion_matrix\n",
    "from sklearn.metrics import classification_report\n",
    "\n",
    "\n",
    "from scipy.stats import pearsonr\n",
    "from scipy.stats import chi2_contingency\n",
    "\n"
   ]
  },
  {
   "cell_type": "code",
   "execution_count": 2,
   "id": "a155c41b",
   "metadata": {},
   "outputs": [],
   "source": [
    "#Load Data\n",
    "dataset = pd.read_csv('ModelReady_LoanDefault.csv')\n",
    "dataset2 = pd.read_csv('ModelReady_LoanDefault.csv')"
   ]
  },
  {
   "cell_type": "code",
   "execution_count": 3,
   "id": "8bbccb62",
   "metadata": {},
   "outputs": [
    {
     "data": {
      "text/html": [
       "<div>\n",
       "<style scoped>\n",
       "    .dataframe tbody tr th:only-of-type {\n",
       "        vertical-align: middle;\n",
       "    }\n",
       "\n",
       "    .dataframe tbody tr th {\n",
       "        vertical-align: top;\n",
       "    }\n",
       "\n",
       "    .dataframe thead th {\n",
       "        text-align: right;\n",
       "    }\n",
       "</style>\n",
       "<table border=\"1\" class=\"dataframe\">\n",
       "  <thead>\n",
       "    <tr style=\"text-align: right;\">\n",
       "      <th></th>\n",
       "      <th>Age</th>\n",
       "      <th>Income</th>\n",
       "      <th>LoanAmount</th>\n",
       "      <th>CreditScore</th>\n",
       "      <th>MonthsEmployed</th>\n",
       "      <th>NumCreditLines</th>\n",
       "      <th>InterestRate</th>\n",
       "      <th>LoanTerm</th>\n",
       "      <th>DTIRatio</th>\n",
       "      <th>Education</th>\n",
       "      <th>EmploymentType</th>\n",
       "      <th>MaritalStatus</th>\n",
       "      <th>HasMortgage</th>\n",
       "      <th>HasDependents</th>\n",
       "      <th>LoanPurpose</th>\n",
       "      <th>HasCoSigner</th>\n",
       "      <th>Default</th>\n",
       "    </tr>\n",
       "  </thead>\n",
       "  <tbody>\n",
       "    <tr>\n",
       "      <th>0</th>\n",
       "      <td>56</td>\n",
       "      <td>85994</td>\n",
       "      <td>50587</td>\n",
       "      <td>520</td>\n",
       "      <td>80</td>\n",
       "      <td>4</td>\n",
       "      <td>15.23</td>\n",
       "      <td>36</td>\n",
       "      <td>0.44</td>\n",
       "      <td>Bachelor's</td>\n",
       "      <td>Full-time</td>\n",
       "      <td>Divorced</td>\n",
       "      <td>Yes</td>\n",
       "      <td>Yes</td>\n",
       "      <td>Other</td>\n",
       "      <td>Yes</td>\n",
       "      <td>0</td>\n",
       "    </tr>\n",
       "    <tr>\n",
       "      <th>1</th>\n",
       "      <td>69</td>\n",
       "      <td>50432</td>\n",
       "      <td>124440</td>\n",
       "      <td>458</td>\n",
       "      <td>15</td>\n",
       "      <td>1</td>\n",
       "      <td>4.81</td>\n",
       "      <td>60</td>\n",
       "      <td>0.68</td>\n",
       "      <td>Master's</td>\n",
       "      <td>Full-time</td>\n",
       "      <td>Married</td>\n",
       "      <td>No</td>\n",
       "      <td>No</td>\n",
       "      <td>Other</td>\n",
       "      <td>Yes</td>\n",
       "      <td>0</td>\n",
       "    </tr>\n",
       "    <tr>\n",
       "      <th>2</th>\n",
       "      <td>46</td>\n",
       "      <td>84208</td>\n",
       "      <td>129188</td>\n",
       "      <td>451</td>\n",
       "      <td>26</td>\n",
       "      <td>3</td>\n",
       "      <td>21.17</td>\n",
       "      <td>24</td>\n",
       "      <td>0.31</td>\n",
       "      <td>Master's</td>\n",
       "      <td>Unemployed</td>\n",
       "      <td>Divorced</td>\n",
       "      <td>Yes</td>\n",
       "      <td>Yes</td>\n",
       "      <td>Auto</td>\n",
       "      <td>No</td>\n",
       "      <td>1</td>\n",
       "    </tr>\n",
       "    <tr>\n",
       "      <th>3</th>\n",
       "      <td>32</td>\n",
       "      <td>31713</td>\n",
       "      <td>44799</td>\n",
       "      <td>743</td>\n",
       "      <td>0</td>\n",
       "      <td>3</td>\n",
       "      <td>7.07</td>\n",
       "      <td>24</td>\n",
       "      <td>0.23</td>\n",
       "      <td>High School</td>\n",
       "      <td>Full-time</td>\n",
       "      <td>Married</td>\n",
       "      <td>No</td>\n",
       "      <td>No</td>\n",
       "      <td>Business</td>\n",
       "      <td>No</td>\n",
       "      <td>0</td>\n",
       "    </tr>\n",
       "    <tr>\n",
       "      <th>4</th>\n",
       "      <td>60</td>\n",
       "      <td>20437</td>\n",
       "      <td>9139</td>\n",
       "      <td>633</td>\n",
       "      <td>8</td>\n",
       "      <td>4</td>\n",
       "      <td>6.51</td>\n",
       "      <td>48</td>\n",
       "      <td>0.73</td>\n",
       "      <td>Bachelor's</td>\n",
       "      <td>Unemployed</td>\n",
       "      <td>Divorced</td>\n",
       "      <td>No</td>\n",
       "      <td>Yes</td>\n",
       "      <td>Auto</td>\n",
       "      <td>No</td>\n",
       "      <td>0</td>\n",
       "    </tr>\n",
       "  </tbody>\n",
       "</table>\n",
       "</div>"
      ],
      "text/plain": [
       "   Age  Income  LoanAmount  CreditScore  MonthsEmployed  NumCreditLines  \\\n",
       "0   56   85994       50587          520              80               4   \n",
       "1   69   50432      124440          458              15               1   \n",
       "2   46   84208      129188          451              26               3   \n",
       "3   32   31713       44799          743               0               3   \n",
       "4   60   20437        9139          633               8               4   \n",
       "\n",
       "   InterestRate  LoanTerm  DTIRatio    Education EmploymentType MaritalStatus  \\\n",
       "0         15.23        36      0.44   Bachelor's      Full-time      Divorced   \n",
       "1          4.81        60      0.68     Master's      Full-time       Married   \n",
       "2         21.17        24      0.31     Master's     Unemployed      Divorced   \n",
       "3          7.07        24      0.23  High School      Full-time       Married   \n",
       "4          6.51        48      0.73   Bachelor's     Unemployed      Divorced   \n",
       "\n",
       "  HasMortgage HasDependents LoanPurpose HasCoSigner  Default  \n",
       "0         Yes           Yes       Other         Yes        0  \n",
       "1          No            No       Other         Yes        0  \n",
       "2         Yes           Yes        Auto          No        1  \n",
       "3          No            No    Business          No        0  \n",
       "4          No           Yes        Auto          No        0  "
      ]
     },
     "execution_count": 3,
     "metadata": {},
     "output_type": "execute_result"
    }
   ],
   "source": [
    "dataset.head()"
   ]
  },
  {
   "cell_type": "markdown",
   "id": "2a5fb9d6",
   "metadata": {},
   "source": [
    "## Dummy Features  <a id = 'Dummy_Features'></a>"
   ]
  },
  {
   "cell_type": "markdown",
   "id": "8b0079b9",
   "metadata": {},
   "source": [
    "The Exploratory Data Analysis showed that all categorical featues, which are Education, Employment Type, Loan Purpose have  significant association with the target variable \"Default,\". Therefore it is crucial to properly encode it for modeling. By converting it into dummy variables, you preserve the distinct categories of the different levels of those categorical features, allowing the model to learn their individual effects on the target variable.\n"
   ]
  },
  {
   "cell_type": "code",
   "execution_count": 4,
   "id": "1b16f8ee",
   "metadata": {},
   "outputs": [],
   "source": [
    "# Select categorical features\n",
    "categorical_features = ['Education', 'EmploymentType', 'LoanPurpose', 'MaritalStatus', 'HasMortgage', 'HasDependents', 'HasCoSigner']\n",
    "\n",
    "# Create dummy variables for all categorical features\n",
    "dummy_df = pd.get_dummies(dataset[categorical_features], drop_first=True)\n",
    "\n",
    "# Concatenate the dummy variables with the original DataFrame\n",
    "dataset = pd.concat([dataset, dummy_df], axis=1)\n",
    "\n",
    "# Drop the original categorical features\n",
    "dataset.drop(categorical_features, axis=1, inplace=True)\n"
   ]
  },
  {
   "cell_type": "code",
   "execution_count": 5,
   "id": "d6eee364",
   "metadata": {},
   "outputs": [
    {
     "data": {
      "text/html": [
       "<div>\n",
       "<style scoped>\n",
       "    .dataframe tbody tr th:only-of-type {\n",
       "        vertical-align: middle;\n",
       "    }\n",
       "\n",
       "    .dataframe tbody tr th {\n",
       "        vertical-align: top;\n",
       "    }\n",
       "\n",
       "    .dataframe thead th {\n",
       "        text-align: right;\n",
       "    }\n",
       "</style>\n",
       "<table border=\"1\" class=\"dataframe\">\n",
       "  <thead>\n",
       "    <tr style=\"text-align: right;\">\n",
       "      <th></th>\n",
       "      <th>Age</th>\n",
       "      <th>Income</th>\n",
       "      <th>LoanAmount</th>\n",
       "      <th>CreditScore</th>\n",
       "      <th>MonthsEmployed</th>\n",
       "      <th>NumCreditLines</th>\n",
       "      <th>InterestRate</th>\n",
       "      <th>LoanTerm</th>\n",
       "      <th>DTIRatio</th>\n",
       "      <th>Default</th>\n",
       "      <th>...</th>\n",
       "      <th>EmploymentType_Unemployed</th>\n",
       "      <th>LoanPurpose_Business</th>\n",
       "      <th>LoanPurpose_Education</th>\n",
       "      <th>LoanPurpose_Home</th>\n",
       "      <th>LoanPurpose_Other</th>\n",
       "      <th>MaritalStatus_Married</th>\n",
       "      <th>MaritalStatus_Single</th>\n",
       "      <th>HasMortgage_Yes</th>\n",
       "      <th>HasDependents_Yes</th>\n",
       "      <th>HasCoSigner_Yes</th>\n",
       "    </tr>\n",
       "  </thead>\n",
       "  <tbody>\n",
       "    <tr>\n",
       "      <th>0</th>\n",
       "      <td>56</td>\n",
       "      <td>85994</td>\n",
       "      <td>50587</td>\n",
       "      <td>520</td>\n",
       "      <td>80</td>\n",
       "      <td>4</td>\n",
       "      <td>15.23</td>\n",
       "      <td>36</td>\n",
       "      <td>0.44</td>\n",
       "      <td>0</td>\n",
       "      <td>...</td>\n",
       "      <td>0</td>\n",
       "      <td>0</td>\n",
       "      <td>0</td>\n",
       "      <td>0</td>\n",
       "      <td>1</td>\n",
       "      <td>0</td>\n",
       "      <td>0</td>\n",
       "      <td>1</td>\n",
       "      <td>1</td>\n",
       "      <td>1</td>\n",
       "    </tr>\n",
       "    <tr>\n",
       "      <th>1</th>\n",
       "      <td>69</td>\n",
       "      <td>50432</td>\n",
       "      <td>124440</td>\n",
       "      <td>458</td>\n",
       "      <td>15</td>\n",
       "      <td>1</td>\n",
       "      <td>4.81</td>\n",
       "      <td>60</td>\n",
       "      <td>0.68</td>\n",
       "      <td>0</td>\n",
       "      <td>...</td>\n",
       "      <td>0</td>\n",
       "      <td>0</td>\n",
       "      <td>0</td>\n",
       "      <td>0</td>\n",
       "      <td>1</td>\n",
       "      <td>1</td>\n",
       "      <td>0</td>\n",
       "      <td>0</td>\n",
       "      <td>0</td>\n",
       "      <td>1</td>\n",
       "    </tr>\n",
       "    <tr>\n",
       "      <th>2</th>\n",
       "      <td>46</td>\n",
       "      <td>84208</td>\n",
       "      <td>129188</td>\n",
       "      <td>451</td>\n",
       "      <td>26</td>\n",
       "      <td>3</td>\n",
       "      <td>21.17</td>\n",
       "      <td>24</td>\n",
       "      <td>0.31</td>\n",
       "      <td>1</td>\n",
       "      <td>...</td>\n",
       "      <td>1</td>\n",
       "      <td>0</td>\n",
       "      <td>0</td>\n",
       "      <td>0</td>\n",
       "      <td>0</td>\n",
       "      <td>0</td>\n",
       "      <td>0</td>\n",
       "      <td>1</td>\n",
       "      <td>1</td>\n",
       "      <td>0</td>\n",
       "    </tr>\n",
       "    <tr>\n",
       "      <th>3</th>\n",
       "      <td>32</td>\n",
       "      <td>31713</td>\n",
       "      <td>44799</td>\n",
       "      <td>743</td>\n",
       "      <td>0</td>\n",
       "      <td>3</td>\n",
       "      <td>7.07</td>\n",
       "      <td>24</td>\n",
       "      <td>0.23</td>\n",
       "      <td>0</td>\n",
       "      <td>...</td>\n",
       "      <td>0</td>\n",
       "      <td>1</td>\n",
       "      <td>0</td>\n",
       "      <td>0</td>\n",
       "      <td>0</td>\n",
       "      <td>1</td>\n",
       "      <td>0</td>\n",
       "      <td>0</td>\n",
       "      <td>0</td>\n",
       "      <td>0</td>\n",
       "    </tr>\n",
       "    <tr>\n",
       "      <th>4</th>\n",
       "      <td>60</td>\n",
       "      <td>20437</td>\n",
       "      <td>9139</td>\n",
       "      <td>633</td>\n",
       "      <td>8</td>\n",
       "      <td>4</td>\n",
       "      <td>6.51</td>\n",
       "      <td>48</td>\n",
       "      <td>0.73</td>\n",
       "      <td>0</td>\n",
       "      <td>...</td>\n",
       "      <td>1</td>\n",
       "      <td>0</td>\n",
       "      <td>0</td>\n",
       "      <td>0</td>\n",
       "      <td>0</td>\n",
       "      <td>0</td>\n",
       "      <td>0</td>\n",
       "      <td>0</td>\n",
       "      <td>1</td>\n",
       "      <td>0</td>\n",
       "    </tr>\n",
       "  </tbody>\n",
       "</table>\n",
       "<p>5 rows × 25 columns</p>\n",
       "</div>"
      ],
      "text/plain": [
       "   Age  Income  LoanAmount  CreditScore  MonthsEmployed  NumCreditLines  \\\n",
       "0   56   85994       50587          520              80               4   \n",
       "1   69   50432      124440          458              15               1   \n",
       "2   46   84208      129188          451              26               3   \n",
       "3   32   31713       44799          743               0               3   \n",
       "4   60   20437        9139          633               8               4   \n",
       "\n",
       "   InterestRate  LoanTerm  DTIRatio  Default  ...  EmploymentType_Unemployed  \\\n",
       "0         15.23        36      0.44        0  ...                          0   \n",
       "1          4.81        60      0.68        0  ...                          0   \n",
       "2         21.17        24      0.31        1  ...                          1   \n",
       "3          7.07        24      0.23        0  ...                          0   \n",
       "4          6.51        48      0.73        0  ...                          1   \n",
       "\n",
       "   LoanPurpose_Business  LoanPurpose_Education  LoanPurpose_Home  \\\n",
       "0                     0                      0                 0   \n",
       "1                     0                      0                 0   \n",
       "2                     0                      0                 0   \n",
       "3                     1                      0                 0   \n",
       "4                     0                      0                 0   \n",
       "\n",
       "   LoanPurpose_Other  MaritalStatus_Married  MaritalStatus_Single  \\\n",
       "0                  1                      0                     0   \n",
       "1                  1                      1                     0   \n",
       "2                  0                      0                     0   \n",
       "3                  0                      1                     0   \n",
       "4                  0                      0                     0   \n",
       "\n",
       "   HasMortgage_Yes  HasDependents_Yes  HasCoSigner_Yes  \n",
       "0                1                  1                1  \n",
       "1                0                  0                1  \n",
       "2                1                  1                0  \n",
       "3                0                  0                0  \n",
       "4                0                  1                0  \n",
       "\n",
       "[5 rows x 25 columns]"
      ]
     },
     "execution_count": 5,
     "metadata": {},
     "output_type": "execute_result"
    }
   ],
   "source": [
    "dataset.head()"
   ]
  },
  {
   "cell_type": "markdown",
   "id": "57fa17ce",
   "metadata": {},
   "source": [
    "## Train-Test Split  <a id = 'Train_Test_Split'></a>"
   ]
  },
  {
   "cell_type": "markdown",
   "id": "1a114e81",
   "metadata": {},
   "source": [
    "Train-Test split is a fundamental technique in machine learning that helps ensure the reliability and generalizability of your models. It allows you to assess model performance, detect overfitting, tune hyperparameters, and select the best model for your task."
   ]
  },
  {
   "cell_type": "code",
   "execution_count": 6,
   "id": "27a4aade",
   "metadata": {},
   "outputs": [],
   "source": [
    "# X contains the features, y contains the target variable\n",
    "y = dataset['Default']\n",
    "X = dataset.drop('Default', axis=1)"
   ]
  },
  {
   "cell_type": "code",
   "execution_count": 7,
   "id": "757a4e6b",
   "metadata": {},
   "outputs": [],
   "source": [
    "# Create a 80/20 train and test split\n",
    "X_train, X_test, y_train, y_test = train_test_split(X, y, test_size=0.2, random_state=42)"
   ]
  },
  {
   "cell_type": "markdown",
   "id": "fd0a91a5",
   "metadata": {},
   "source": [
    "## Standardize / Normalize  <a id = 'Standardize_Normalize'></a>"
   ]
  },
  {
   "cell_type": "code",
   "execution_count": 8,
   "id": "0800096d",
   "metadata": {},
   "outputs": [],
   "source": [
    "# Initialize the scaler\n",
    "scaler = StandardScaler()\n",
    "\n",
    "# Fit the scaler on X_train and transform X_train\n",
    "X_train_scaled = scaler.fit_transform(X_train)\n",
    "\n",
    "# Use the same fitted scaler to transform X_test\n",
    "X_test_scaled = scaler.transform(X_test)"
   ]
  },
  {
   "cell_type": "markdown",
   "id": "14c6259f",
   "metadata": {},
   "source": [
    "## Model Building  <a id = 'Model_Building'></a>"
   ]
  },
  {
   "cell_type": "markdown",
   "id": "8b67f0ae",
   "metadata": {},
   "source": [
    "### KNN"
   ]
  },
  {
   "cell_type": "code",
   "execution_count": 9,
   "id": "1461fb83",
   "metadata": {},
   "outputs": [
    {
     "name": "stdout",
     "output_type": "stream",
     "text": [
      "KNN Accuracy: 0.8833757587624829\n"
     ]
    }
   ],
   "source": [
    "from sklearn.neighbors import KNeighborsClassifier\n",
    "from sklearn.metrics import accuracy_score\n",
    "\n",
    "# Initialize KNN classifier\n",
    "knn = KNeighborsClassifier(n_neighbors=8)\n",
    "\n",
    "# Fit the classifier on the scaled training data\n",
    "knn.fit(X_train_scaled, y_train)\n",
    "\n",
    "# Predict on the scaled test data\n",
    "y_pred_knn = knn.predict(X_test_scaled)\n",
    "\n",
    "# Calculate accuracy\n",
    "accuracy = accuracy_score(y_test, y_pred_knn)\n",
    "print(\"KNN Accuracy:\", accuracy)\n"
   ]
  },
  {
   "cell_type": "code",
   "execution_count": null,
   "id": "3210f153",
   "metadata": {},
   "outputs": [],
   "source": []
  },
  {
   "cell_type": "markdown",
   "id": "3a5a9037",
   "metadata": {},
   "source": [
    "### Gradient Boosting"
   ]
  },
  {
   "cell_type": "code",
   "execution_count": 10,
   "id": "182d23ed",
   "metadata": {},
   "outputs": [
    {
     "name": "stdout",
     "output_type": "stream",
     "text": [
      "GB Accuracy: 0.8871744664186411\n"
     ]
    }
   ],
   "source": [
    "from sklearn.ensemble import GradientBoostingClassifier\n",
    "from sklearn.metrics import accuracy_score\n",
    "from sklearn.preprocessing import StandardScaler\n",
    "\n",
    "# Initialize Gradient Boosting classifier\n",
    "gb_model = GradientBoostingClassifier()\n",
    "\n",
    "# Fit the classifier on the scaled training data\n",
    "gb_model.fit(X_train_scaled, y_train)\n",
    "\n",
    "# Predict on the scaled test data\n",
    "y_pred_gb = gb_model.predict(X_test_scaled)\n",
    "\n",
    "# Calculate accuracy\n",
    "accuracy = accuracy_score(y_test, y_pred_gb)\n",
    "print(\"GB Accuracy:\", accuracy)"
   ]
  },
  {
   "cell_type": "markdown",
   "id": "953fe19d",
   "metadata": {},
   "source": [
    "### Random Forests"
   ]
  },
  {
   "cell_type": "code",
   "execution_count": 11,
   "id": "b21d3419",
   "metadata": {},
   "outputs": [
    {
     "name": "stdout",
     "output_type": "stream",
     "text": [
      "Random Forest Accuracy: 0.8863716467593499\n"
     ]
    }
   ],
   "source": [
    "from sklearn.ensemble import RandomForestClassifier\n",
    "from sklearn.metrics import accuracy_score\n",
    "from sklearn.preprocessing import StandardScaler\n",
    "\n",
    "# Initialize Random Forest classifier\n",
    "rf_model = RandomForestClassifier()\n",
    "\n",
    "# Fit the classifier on the scaled training data\n",
    "rf_model.fit(X_train_scaled, y_train)\n",
    "\n",
    "# Predict on the scaled test data\n",
    "y_pred_rf = rf_model.predict(X_test_scaled)\n",
    "\n",
    "# Calculate accuracy\n",
    "accuracy = accuracy_score(y_test, y_pred_rf)\n",
    "print(\"Random Forest Accuracy:\", accuracy)\n"
   ]
  },
  {
   "cell_type": "markdown",
   "id": "9d513fd9",
   "metadata": {},
   "source": [
    "## Evaluation"
   ]
  },
  {
   "cell_type": "markdown",
   "id": "44baa56b",
   "metadata": {},
   "source": [
    "### Confusion Matrix"
   ]
  },
  {
   "cell_type": "code",
   "execution_count": 12,
   "id": "f684fb0d",
   "metadata": {},
   "outputs": [
    {
     "name": "stdout",
     "output_type": "stream",
     "text": [
      "Confusion Matrix for KNN:\n",
      "[[45042   128]\n",
      " [ 5828    72]]\n",
      "\n",
      "Confusion Matrix for Gradient Boosting:\n",
      "[[45007   163]\n",
      " [ 5599   301]]\n",
      "\n",
      "Confusion Matrix for Random Forest:\n",
      "[[45079    91]\n",
      " [ 5712   188]]\n"
     ]
    }
   ],
   "source": [
    "from sklearn.metrics import confusion_matrix\n",
    "\n",
    "# Confusion matrix for KNN\n",
    "conf_matrix_knn = confusion_matrix(y_test, y_pred_knn)\n",
    "print(\"Confusion Matrix for KNN:\")\n",
    "print(conf_matrix_knn)\n",
    "\n",
    "# Confusion matrix for Gradient Boosting\n",
    "conf_matrix_gb = confusion_matrix(y_test, y_pred_gb)\n",
    "print(\"\\nConfusion Matrix for Gradient Boosting:\")\n",
    "print(conf_matrix_gb)\n",
    "\n",
    "# Confusion matrix for Random Forest\n",
    "conf_matrix_rf = confusion_matrix(y_test, y_pred_rf)\n",
    "print(\"\\nConfusion Matrix for Random Forest:\")\n",
    "print(conf_matrix_rf)\n"
   ]
  },
  {
   "cell_type": "markdown",
   "id": "e4bc2a2e",
   "metadata": {},
   "source": [
    "### Classification Report"
   ]
  },
  {
   "cell_type": "code",
   "execution_count": 13,
   "id": "5c1ceed9",
   "metadata": {},
   "outputs": [
    {
     "name": "stdout",
     "output_type": "stream",
     "text": [
      "Classification Report for KNN:\n",
      "              precision    recall  f1-score   support\n",
      "\n",
      "           0       0.89      1.00      0.94     45170\n",
      "           1       0.36      0.01      0.02      5900\n",
      "\n",
      "    accuracy                           0.88     51070\n",
      "   macro avg       0.62      0.50      0.48     51070\n",
      "weighted avg       0.82      0.88      0.83     51070\n",
      "\n",
      "\n",
      "Classification Report for Gradient Boosting:\n",
      "              precision    recall  f1-score   support\n",
      "\n",
      "           0       0.89      1.00      0.94     45170\n",
      "           1       0.65      0.05      0.09      5900\n",
      "\n",
      "    accuracy                           0.89     51070\n",
      "   macro avg       0.77      0.52      0.52     51070\n",
      "weighted avg       0.86      0.89      0.84     51070\n",
      "\n",
      "\n",
      "Classification Report for Random Forest:\n",
      "              precision    recall  f1-score   support\n",
      "\n",
      "           0       0.89      1.00      0.94     45170\n",
      "           1       0.67      0.03      0.06      5900\n",
      "\n",
      "    accuracy                           0.89     51070\n",
      "   macro avg       0.78      0.51      0.50     51070\n",
      "weighted avg       0.86      0.89      0.84     51070\n",
      "\n"
     ]
    }
   ],
   "source": [
    "from sklearn.metrics import classification_report\n",
    "\n",
    "# Classification report for KNN\n",
    "print(\"Classification Report for KNN:\")\n",
    "print(classification_report(y_test, y_pred_knn))\n",
    "\n",
    "# Classification report for Gradient Boosting\n",
    "print(\"\\nClassification Report for Gradient Boosting:\")\n",
    "print(classification_report(y_test, y_pred_gb))\n",
    "\n",
    "# Classification report for Random Forest\n",
    "print(\"\\nClassification Report for Random Forest:\")\n",
    "print(classification_report(y_test, y_pred_rf))\n"
   ]
  },
  {
   "cell_type": "markdown",
   "id": "d6bea6f7",
   "metadata": {},
   "source": [
    "### Plotting the Cnfusion Matrix"
   ]
  },
  {
   "cell_type": "code",
   "execution_count": 15,
   "id": "7a255b83",
   "metadata": {},
   "outputs": [
    {
     "data": {
      "image/png": "[encoded data removed]",
      "text/plain": [
       "<Figure size 800x600 with 1 Axes>"
      ]
     },
     "metadata": {},
     "output_type": "display_data"
    },
    {
     "data": {
      "image/png": "[encoded data removed]",
      "text/plain": [
       "<Figure size 800x600 with 1 Axes>"
      ]
     },
     "metadata": {},
     "output_type": "display_data"
    },
    {
     "data": {
      "image/png": "[encoded data removed]",
      "text/plain": [
       "<Figure size 800x600 with 1 Axes>"
      ]
     },
     "metadata": {},
     "output_type": "display_data"
    }
   ],
   "source": [
    "import matplotlib.pyplot as plt\n",
    "import seaborn as sns\n",
    "\n",
    "# Function to plot confusion matrix\n",
    "def plot_confusion_matrix(conf_matrix, title):\n",
    "    plt.figure(figsize=(8, 6))\n",
    "    sns.heatmap(conf_matrix, annot=True, fmt=\"d\", cmap=\"Blues\", cbar=False)\n",
    "    plt.title(title)\n",
    "    plt.xlabel('Predicted Labels')\n",
    "    plt.ylabel('True Labels')\n",
    "    plt.show()\n",
    "\n",
    "# Plot confusion matrices for KNN, Gradient Boosting, and Random Forest\n",
    "plot_confusion_matrix(conf_matrix_knn, 'Confusion Matrix for KNN')\n",
    "plot_confusion_matrix(conf_matrix_gb, 'Confusion Matrix for Gradient Boosting')\n",
    "plot_confusion_matrix(conf_matrix_rf, 'Confusion Matrix for Random Forest')\n"
   ]
  },
  {
   "cell_type": "markdown",
   "id": "9bd5c9a8",
   "metadata": {},
   "source": [
    "### Interpretation"
   ]
  },
  {
   "attachments": {},
   "cell_type": "markdown",
   "id": "da2acfa2",
   "metadata": {},
   "source": [
    "\n",
    "Based on the provided confusion matrices and classification reports for the three models (KNN, Gradient Boosting, and Random Forest), here are some observations:\n",
    "\n",
    "##### Confusion Matrix Analysis:\n",
    "**KNN:**\n",
    "\n",
    "-  True Negative (TN):  45042\n",
    "-  False Positive (FP): 128\n",
    "-  False Negative (FN): 5828\n",
    "-  True Positive (TP):  72\n",
    "\n",
    "**Gradient Boosting:**\n",
    "\n",
    "-  TN: 45007\n",
    "-  FP: 163\n",
    "-  FN: 5599\n",
    "-  TP: 301\n",
    "\n",
    "\n",
    "**Random Forest:**\n",
    "\n",
    "-  TN: 45079\n",
    "-  FP: 91\n",
    "-  FN: 5712\n",
    "-  TP: 188\n",
    "\n",
    "\n",
    "\n",
    "##### Classification Report Analysis:\n",
    "**Precision:** Indicates the proportion of correctly predicted positive cases out of all cases predicted as positive.\n",
    "\n",
    "**Recall:** Indicates the proportion of correctly predicted positive cases out of all actual positive cases.\n",
    "\n",
    "**F1-score:** Harmonic mean of precision and recall. It provides a balance between precision and recall.\n",
    "\n",
    "**Support:** The number of actual occurrences of the class in the specified dataset.\n",
    "\n",
    "\n",
    "\n",
    "**Observations:**\n",
    "\n",
    "For all three models, the recall for class 1 (defaulted loans) is relatively low, indicating that the models have difficulty correctly identifying defaulted loans.\n",
    "\n",
    "The precision for class 1 is also low for all models, suggesting that a considerable portion of the predicted defaulted loans are false positives.\n",
    "\n",
    "The overall accuracy is high for Gradient Boosting and Random Forest compared to KNN"
   ]
  },
  {
   "cell_type": "markdown",
   "id": "1a572189",
   "metadata": {},
   "source": [
    "### Cross Validation"
   ]
  },
  {
   "cell_type": "code",
   "execution_count": 16,
   "id": "1ebb3f9f",
   "metadata": {},
   "outputs": [
    {
     "name": "stdout",
     "output_type": "stream",
     "text": [
      "Cross-validation scores: [0.8750979  0.87436362 0.87443397 0.87387101 0.87477665]\n",
      "Mean Cross-validation score: 0.8745086307109368\n"
     ]
    }
   ],
   "source": [
    "from sklearn.model_selection import cross_val_score\n",
    "from sklearn.neighbors import KNeighborsClassifier\n",
    "\n",
    "# Initialize KNN classifier\n",
    "knn = KNeighborsClassifier(n_neighbors=5)\n",
    "\n",
    "# Perform cross-validation\n",
    "cv_scores = cross_val_score(knn, X_train_scaled, y_train, cv=5)  # 5-fold cross-validation\n",
    "\n",
    "# Print the cross-validation scores\n",
    "print(\"Cross-validation scores:\", cv_scores)\n",
    "\n",
    "# Calculate the mean cross-validation score\n",
    "mean_cv_score = cv_scores.mean()\n",
    "print(\"Mean Cross-validation score:\", mean_cv_score)\n"
   ]
  },
  {
   "cell_type": "code",
   "execution_count": null,
   "id": "f4be0b3a",
   "metadata": {},
   "outputs": [],
   "source": []
  },
  {
   "cell_type": "code",
   "execution_count": 17,
   "id": "c15077dc",
   "metadata": {},
   "outputs": [
    {
     "name": "stdout",
     "output_type": "stream",
     "text": [
      "Gradient Boosting Cross-validation scores: [0.88618563 0.88606325 0.88618284 0.88625627 0.88544854]\n",
      "Mean Gradient Boosting Cross-validation score: 0.8860273051089262\n"
     ]
    }
   ],
   "source": [
    "from sklearn.ensemble import GradientBoostingClassifier\n",
    "\n",
    "# Initialize Gradient Boosting classifier\n",
    "gb_model = GradientBoostingClassifier()\n",
    "\n",
    "# Perform cross-validation\n",
    "gb_cv_scores = cross_val_score(gb_model, X_train_scaled, y_train, cv=5)  # 5-fold cross-validation\n",
    "\n",
    "# Print the cross-validation scores\n",
    "print(\"Gradient Boosting Cross-validation scores:\", gb_cv_scores)\n",
    "\n",
    "# Calculate the mean cross-validation score\n",
    "gb_mean_cv_score = gb_cv_scores.mean()\n",
    "print(\"Mean Gradient Boosting Cross-validation score:\", gb_mean_cv_score)\n"
   ]
  },
  {
   "cell_type": "code",
   "execution_count": null,
   "id": "b3ae1ea6",
   "metadata": {},
   "outputs": [],
   "source": []
  },
  {
   "cell_type": "code",
   "execution_count": 18,
   "id": "5d98fe41",
   "metadata": {},
   "outputs": [
    {
     "name": "stdout",
     "output_type": "stream",
     "text": [
      "Random Forest Cross-validation scores: [0.88579401 0.88532896 0.88508139 0.88571778 0.88505691]\n",
      "Mean Random Forest Cross-validation score: 0.8853958089684568\n"
     ]
    }
   ],
   "source": [
    "from sklearn.ensemble import RandomForestClassifier\n",
    "\n",
    "# Initialize Random Forest classifier\n",
    "rf_model = RandomForestClassifier()\n",
    "\n",
    "# Perform cross-validation\n",
    "rf_cv_scores = cross_val_score(rf_model, X_train_scaled, y_train, cv=5)  # 5-fold cross-validation\n",
    "\n",
    "# Print the cross-validation scores\n",
    "print(\"Random Forest Cross-validation scores:\", rf_cv_scores)\n",
    "\n",
    "# Calculate the mean cross-validation score\n",
    "rf_mean_cv_score = rf_cv_scores.mean()\n",
    "print(\"Mean Random Forest Cross-validation score:\", rf_mean_cv_score)\n"
   ]
  },
  {
   "cell_type": "markdown",
   "id": "e5ffc059",
   "metadata": {},
   "source": [
    "### Interpretation"
   ]
  },
  {
   "cell_type": "markdown",
   "id": "15451002",
   "metadata": {},
   "source": [
    "Interpretation:\n",
    "\n",
    "The cross-validation scores represent the performance of each model on different subsets of the training data.\n",
    "The mean cross-validation score provides an overall assessment of each model's performance across multiple folds of the training data.\n",
    "\n",
    "\n",
    "A higher mean cross-validation score indicates better generalization performance.</br>\n",
    "In this case, the Gradient Boosting model has the highest mean cross-validation score (0.8860), followed by Random Forest (0.8853), and then KNN (0.8745). Therefore, based on cross-validation, the Gradient Boosting model appears to perform the best among the three models."
   ]
  },
  {
   "cell_type": "markdown",
   "id": "1cadb09c",
   "metadata": {},
   "source": [
    "## Taking Gradient Boosting forward"
   ]
  },
  {
   "cell_type": "code",
   "execution_count": 19,
   "id": "341bdcb2",
   "metadata": {},
   "outputs": [
    {
     "name": "stdout",
     "output_type": "stream",
     "text": [
      "Best Hyperparameters: {'learning_rate': 0.1, 'max_depth': 3, 'n_estimators': 200}\n",
      "Test Accuracy: 0.8878793812414333\n"
     ]
    }
   ],
   "source": [
    "\n",
    "from sklearn.model_selection import GridSearchCV\n",
    "from sklearn.ensemble import GradientBoostingClassifier\n",
    "\n",
    "# Define the parameter grid\n",
    "param_grid = {\n",
    "    'n_estimators': [100, 200],  # Reduced number of estimators for faster training\n",
    "    'learning_rate': [0.01, 0.1],  # Reduced learning rates\n",
    "    'max_depth': [3, 5]  # Reduced max depth\n",
    "}\n",
    "\n",
    "# Initialize Gradient Boosting classifier\n",
    "gb_model = GradientBoostingClassifier()\n",
    "\n",
    "# Initialize GridSearchCV\n",
    "grid_search = GridSearchCV(estimator=gb_model, param_grid=param_grid, cv=3, scoring='accuracy')  # Reduced cv folds\n",
    "\n",
    "# Perform hyperparameter search\n",
    "grid_search.fit(X_train, y_train)\n",
    "\n",
    "# Get the best hyperparameters\n",
    "best_params = grid_search.best_params_\n",
    "print(\"Best Hyperparameters:\", best_params)\n",
    "\n",
    "# Train the model with the best hyperparameters\n",
    "best_gb_model = GradientBoostingClassifier(**best_params)\n",
    "best_gb_model.fit(X_train, y_train)\n",
    "\n",
    "# Evaluate on the test set\n",
    "test_accuracy = best_gb_model.score(X_test, y_test)\n",
    "print(\"Test Accuracy:\", test_accuracy)\n",
    "\n"
   ]
  },
  {
   "cell_type": "markdown",
   "id": "b431a73d",
   "metadata": {},
   "source": [
    "## Conclusion  <a id = 'Conclusion'></a>"
   ]
  },
  {
   "cell_type": "markdown",
   "id": "0297315f",
   "metadata": {},
   "source": [
    "These outocomes are the final round from various trial-and-error.\n",
    "At first the splitting was done at 70/30. Then the second round, the data results were evaluated from a 80/20 splits and found the outcomes had some slight improvements.\n",
    "\n",
    "The hyperparameter tuning takes almost 1 hour to complete, and with that did not see significant improvement.\n",
    "\n",
    "\n",
    "### Modeling Summary\n",
    "\n",
    "**Accuracy Comparison:**\n",
    "\n",
    "KNN: 0.883\n",
    "Gradient Boosting: 0.887\n",
    "Random Forest: 0.886\n",
    "All three models have relatively high accuracy scores, with Gradient Boosting achieving the highest accuracy.\n",
    "\n",
    "**Confusion Matrix Analysis:**\n",
    "\n",
    "**KNN** has a large number of true negatives (TN) but a very low number of true positives (TP), indicating that it tends to classify most instances as non-defaults.\n",
    "**Gradient Boosting**  has more true positives than KNN, indicating a better balance between correctly predicting defaults and non-defaults compared to KNN.\n",
    "**Random Forest**, similar to Gradient Boosting, also has more true positives compared to KNN, indicating better performance in predicting defaults.\n",
    "\n",
    "\n",
    "**Classification Report Analysis:**\n",
    "\n",
    "KNN has low precision, recall, and F1-score for the default class (1), indicating that it performs poorly in identifying defaults. It has high accuracy due to a large number of true negatives but is not effective in predicting defaults.\n",
    "Gradient Boosting has better precision, recall, and F1-score for the default class compared to KNN, indicating an improvement in identifying defaults. However, the recall and F1-score for the default class are still relatively low.\n",
    "Random Forest, similar to Gradient Boosting, also shows improvement in identifying defaults compared to KNN, but the recall and F1-score for the default class are still relatively low.\n",
    "\n",
    "\n",
    "While all three models have high accuracy, they struggle to effectively identify defaults (class 1), as indicated by low precision, recall, and F1-score for this class.\n",
    "Gradient Boosting and Random Forest show some improvement over KNN in identifying defaults.\n",
    "\n",
    "\n",
    "**Final Thoughts**\n",
    "\n",
    "In the context of loan default prediction, minimizing false negatives (FN) is crucial because it's important to correctly identify individuals who are likely to default. Therefore, True Positives (TP) represent instances where the model correctly identifies actual defaults, which is a key consideration for evaluating the model's performance.\n",
    "\n",
    "Among the models evaluated, Gradient Boosting appears to perform slightly better than the others in terms of correctly identifying defaults, as indicated by a higher number of true positives and relatively higher precision, recall, and F1-score for the default class compared to KNN and Random Forest. However, all models still show room for improvement in correctly identifying defaults, as indicated by relatively low recall and F1-score for the default class.\n",
    "\n",
    "Therefore, the suggested model would be Gradient Boosting, but further optimization and tuning of the model may be necessary to improve its performance in correctly identifying defaults, which is critical for making informed decisions in the loan application approval process."
   ]
  },
  {
   "cell_type": "code",
   "execution_count": null,
   "id": "0904cb33",
   "metadata": {},
   "outputs": [],
   "source": []
  }
 ],
 "metadata": {
  "kernelspec": {
   "display_name": "Python 3 (ipykernel)",
   "language": "python",
   "name": "python3"
  },
  "language_info": {
   "codemirror_mode": {
    "name": "ipython",
    "version": 3
   },
   "file_extension": ".py",
   "mimetype": "text/x-python",
   "name": "python",
   "nbconvert_exporter": "python",
   "pygments_lexer": "ipython3",
   "version": "3.11.4"
  }
 },
 "nbformat": 4,
 "nbformat_minor": 5
}
