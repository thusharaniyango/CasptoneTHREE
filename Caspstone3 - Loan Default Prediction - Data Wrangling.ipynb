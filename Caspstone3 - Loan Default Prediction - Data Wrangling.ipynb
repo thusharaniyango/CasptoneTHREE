{
 "cells": [
  {
   "cell_type": "markdown",
   "id": "9328c878",
   "metadata": {},
   "source": [
    "## Data Wrangling <a id='Contents'></a>\n",
    "* [Introduction](#Introduction)\n",
    "* [Import Packages](#Import_packages)\n",
    "* [Load and preview data](#Load_Data)\n",
    "    * [Examine Categorical Features](#Categorical)\n",
    "    * [Examine Numerical Features](#Numerical)    "
   ]
  },
  {
   "cell_type": "markdown",
   "id": "4e602032",
   "metadata": {},
   "source": [
    "## Introduction  <a id = 'Introduction'></a>"
   ]
  },
  {
   "cell_type": "markdown",
   "id": "bcf5d6df",
   "metadata": {},
   "source": [
    "In this notebook, I will explore and analyze the dataset for loan defaulters. The goal of this analysis is, in these current economic conditions, how can Investment Partners Bank use Machine Learning to build an advanced predictive model to analyze historical data to identify potential default risks, so that by the end of the next Fiscal Year, that bank has reduced the current loan default rate from 20% to under 8%, for all loans that exceed $50,000.00.\n",
    "\n",
    "#### Background\n",
    "\n",
    "The financial industry faces an ongoing challenge in effectively managing the risk associated with loan defaults. Unpredictable economic conditions and shifting borrower behaviors make it imperative for lending institutions to adopt proactive strategies for safeguarding their financial stability. The lack of a systematic and data-driven approach to predict loan defaults hinders the ability to make informed lending decisions, resulting in potential financial losses and a strain on sustainable financial practices.\n",
    "\n",
    "Through the implementation of SecureLend project, the Investment Partners Bank hope to proactively identify high-risk loan applications, implement targeted risk mitigation strategies, and ultimately contribute to the establishment of sustainable financial practices. This project aims to revolutionize the way the bank approach risk management, enabling them to make responsible and informed lending decisions in an ever-evolving financial landscape.\n",
    "\n",
    "\n",
    "#### The Dataset\n",
    "The dataset has 18 features (columns) and 255,347 rows of historical data of loan records. The feature \"Default\" indicates whther the loan defaulted (1) or not (0).\n",
    "\n",
    "#### Objectives\n",
    "\n",
    "The primary objectives of this analysis are:\n",
    "\n",
    "1. Objective 1:Explore the distribution of key variables\n",
    "2. Objective 2:Investigate the distribution of key variables.\n",
    "3. Objective 3: Make sure the data is clean, complete, and meet the initial quality requirements - no siginificant anomalies, outliers and no missing values. Essentaily making the dataset ready for Exploratory Data Analysis (EDA) \n",
    "\n",
    "#### Tools and Libraries\n",
    "\n",
    "I will use Pandas, numpy for exploratory tasks and user matplotlip and seaborn for visualization.\n",
    "\n"
   ]
  },
  {
   "cell_type": "markdown",
   "id": "6ceff762",
   "metadata": {},
   "source": [
    "## Import Packages <a id = 'Import_packages'></a>"
   ]
  },
  {
   "cell_type": "code",
   "execution_count": 1,
   "id": "b6ef488d",
   "metadata": {},
   "outputs": [],
   "source": [
    "#Import Packages\n",
    "import pandas as pd\n",
    "import numpy as np\n",
    "\n",
    "import seaborn as sns\n",
    "import matplotlib.pyplot as plt"
   ]
  },
  {
   "cell_type": "markdown",
   "id": "1080c137",
   "metadata": {},
   "source": [
    "## Load and preview data  <a id = 'Load_Data'></a>"
   ]
  },
  {
   "cell_type": "code",
   "execution_count": 2,
   "id": "29399f42",
   "metadata": {},
   "outputs": [],
   "source": [
    "#Load Data\n",
    "dataset = pd.read_csv('Loan_default.csv')"
   ]
  },
  {
   "cell_type": "code",
   "execution_count": 3,
   "id": "d913ed4f",
   "metadata": {},
   "outputs": [
    {
     "data": {
      "text/html": [
       "<div>\n",
       "<style scoped>\n",
       "    .dataframe tbody tr th:only-of-type {\n",
       "        vertical-align: middle;\n",
       "    }\n",
       "\n",
       "    .dataframe tbody tr th {\n",
       "        vertical-align: top;\n",
       "    }\n",
       "\n",
       "    .dataframe thead th {\n",
       "        text-align: right;\n",
       "    }\n",
       "</style>\n",
       "<table border=\"1\" class=\"dataframe\">\n",
       "  <thead>\n",
       "    <tr style=\"text-align: right;\">\n",
       "      <th></th>\n",
       "      <th>LoanID</th>\n",
       "      <th>Age</th>\n",
       "      <th>Income</th>\n",
       "      <th>LoanAmount</th>\n",
       "      <th>CreditScore</th>\n",
       "      <th>MonthsEmployed</th>\n",
       "      <th>NumCreditLines</th>\n",
       "      <th>InterestRate</th>\n",
       "      <th>LoanTerm</th>\n",
       "      <th>DTIRatio</th>\n",
       "      <th>Education</th>\n",
       "      <th>EmploymentType</th>\n",
       "      <th>MaritalStatus</th>\n",
       "      <th>HasMortgage</th>\n",
       "      <th>HasDependents</th>\n",
       "      <th>LoanPurpose</th>\n",
       "      <th>HasCoSigner</th>\n",
       "      <th>Default</th>\n",
       "    </tr>\n",
       "  </thead>\n",
       "  <tbody>\n",
       "    <tr>\n",
       "      <th>0</th>\n",
       "      <td>I38PQUQS96</td>\n",
       "      <td>56</td>\n",
       "      <td>85994</td>\n",
       "      <td>50587</td>\n",
       "      <td>520</td>\n",
       "      <td>80</td>\n",
       "      <td>4</td>\n",
       "      <td>15.23</td>\n",
       "      <td>36</td>\n",
       "      <td>0.44</td>\n",
       "      <td>Bachelor's</td>\n",
       "      <td>Full-time</td>\n",
       "      <td>Divorced</td>\n",
       "      <td>Yes</td>\n",
       "      <td>Yes</td>\n",
       "      <td>Other</td>\n",
       "      <td>Yes</td>\n",
       "      <td>0</td>\n",
       "    </tr>\n",
       "    <tr>\n",
       "      <th>1</th>\n",
       "      <td>HPSK72WA7R</td>\n",
       "      <td>69</td>\n",
       "      <td>50432</td>\n",
       "      <td>124440</td>\n",
       "      <td>458</td>\n",
       "      <td>15</td>\n",
       "      <td>1</td>\n",
       "      <td>4.81</td>\n",
       "      <td>60</td>\n",
       "      <td>0.68</td>\n",
       "      <td>Master's</td>\n",
       "      <td>Full-time</td>\n",
       "      <td>Married</td>\n",
       "      <td>No</td>\n",
       "      <td>No</td>\n",
       "      <td>Other</td>\n",
       "      <td>Yes</td>\n",
       "      <td>0</td>\n",
       "    </tr>\n",
       "    <tr>\n",
       "      <th>2</th>\n",
       "      <td>C1OZ6DPJ8Y</td>\n",
       "      <td>46</td>\n",
       "      <td>84208</td>\n",
       "      <td>129188</td>\n",
       "      <td>451</td>\n",
       "      <td>26</td>\n",
       "      <td>3</td>\n",
       "      <td>21.17</td>\n",
       "      <td>24</td>\n",
       "      <td>0.31</td>\n",
       "      <td>Master's</td>\n",
       "      <td>Unemployed</td>\n",
       "      <td>Divorced</td>\n",
       "      <td>Yes</td>\n",
       "      <td>Yes</td>\n",
       "      <td>Auto</td>\n",
       "      <td>No</td>\n",
       "      <td>1</td>\n",
       "    </tr>\n",
       "    <tr>\n",
       "      <th>3</th>\n",
       "      <td>V2KKSFM3UN</td>\n",
       "      <td>32</td>\n",
       "      <td>31713</td>\n",
       "      <td>44799</td>\n",
       "      <td>743</td>\n",
       "      <td>0</td>\n",
       "      <td>3</td>\n",
       "      <td>7.07</td>\n",
       "      <td>24</td>\n",
       "      <td>0.23</td>\n",
       "      <td>High School</td>\n",
       "      <td>Full-time</td>\n",
       "      <td>Married</td>\n",
       "      <td>No</td>\n",
       "      <td>No</td>\n",
       "      <td>Business</td>\n",
       "      <td>No</td>\n",
       "      <td>0</td>\n",
       "    </tr>\n",
       "    <tr>\n",
       "      <th>4</th>\n",
       "      <td>EY08JDHTZP</td>\n",
       "      <td>60</td>\n",
       "      <td>20437</td>\n",
       "      <td>9139</td>\n",
       "      <td>633</td>\n",
       "      <td>8</td>\n",
       "      <td>4</td>\n",
       "      <td>6.51</td>\n",
       "      <td>48</td>\n",
       "      <td>0.73</td>\n",
       "      <td>Bachelor's</td>\n",
       "      <td>Unemployed</td>\n",
       "      <td>Divorced</td>\n",
       "      <td>No</td>\n",
       "      <td>Yes</td>\n",
       "      <td>Auto</td>\n",
       "      <td>No</td>\n",
       "      <td>0</td>\n",
       "    </tr>\n",
       "  </tbody>\n",
       "</table>\n",
       "</div>"
      ],
      "text/plain": [
       "       LoanID  Age  Income  LoanAmount  CreditScore  MonthsEmployed  \\\n",
       "0  I38PQUQS96   56   85994       50587          520              80   \n",
       "1  HPSK72WA7R   69   50432      124440          458              15   \n",
       "2  C1OZ6DPJ8Y   46   84208      129188          451              26   \n",
       "3  V2KKSFM3UN   32   31713       44799          743               0   \n",
       "4  EY08JDHTZP   60   20437        9139          633               8   \n",
       "\n",
       "   NumCreditLines  InterestRate  LoanTerm  DTIRatio    Education  \\\n",
       "0               4         15.23        36      0.44   Bachelor's   \n",
       "1               1          4.81        60      0.68     Master's   \n",
       "2               3         21.17        24      0.31     Master's   \n",
       "3               3          7.07        24      0.23  High School   \n",
       "4               4          6.51        48      0.73   Bachelor's   \n",
       "\n",
       "  EmploymentType MaritalStatus HasMortgage HasDependents LoanPurpose  \\\n",
       "0      Full-time      Divorced         Yes           Yes       Other   \n",
       "1      Full-time       Married          No            No       Other   \n",
       "2     Unemployed      Divorced         Yes           Yes        Auto   \n",
       "3      Full-time       Married          No            No    Business   \n",
       "4     Unemployed      Divorced          No           Yes        Auto   \n",
       "\n",
       "  HasCoSigner  Default  \n",
       "0         Yes        0  \n",
       "1         Yes        0  \n",
       "2          No        1  \n",
       "3          No        0  \n",
       "4          No        0  "
      ]
     },
     "execution_count": 3,
     "metadata": {},
     "output_type": "execute_result"
    }
   ],
   "source": [
    "dataset.head()"
   ]
  },
  {
   "cell_type": "code",
   "execution_count": 4,
   "id": "bdb7884d",
   "metadata": {},
   "outputs": [
    {
     "data": {
      "text/plain": [
       "(255347, 18)"
      ]
     },
     "execution_count": 4,
     "metadata": {},
     "output_type": "execute_result"
    }
   ],
   "source": [
    "dataset.shape"
   ]
  },
  {
   "cell_type": "code",
   "execution_count": 5,
   "id": "e704761d",
   "metadata": {},
   "outputs": [
    {
     "data": {
      "text/plain": [
       "LoanID             object\n",
       "Age                 int64\n",
       "Income              int64\n",
       "LoanAmount          int64\n",
       "CreditScore         int64\n",
       "MonthsEmployed      int64\n",
       "NumCreditLines      int64\n",
       "InterestRate      float64\n",
       "LoanTerm            int64\n",
       "DTIRatio          float64\n",
       "Education          object\n",
       "EmploymentType     object\n",
       "MaritalStatus      object\n",
       "HasMortgage        object\n",
       "HasDependents      object\n",
       "LoanPurpose        object\n",
       "HasCoSigner        object\n",
       "Default             int64\n",
       "dtype: object"
      ]
     },
     "execution_count": 5,
     "metadata": {},
     "output_type": "execute_result"
    }
   ],
   "source": [
    "dataset.dtypes"
   ]
  },
  {
   "cell_type": "code",
   "execution_count": 6,
   "id": "02f8d960",
   "metadata": {},
   "outputs": [
    {
     "name": "stdout",
     "output_type": "stream",
     "text": [
      "<class 'pandas.core.frame.DataFrame'>\n",
      "RangeIndex: 255347 entries, 0 to 255346\n",
      "Data columns (total 18 columns):\n",
      " #   Column          Non-Null Count   Dtype  \n",
      "---  ------          --------------   -----  \n",
      " 0   LoanID          255347 non-null  object \n",
      " 1   Age             255347 non-null  int64  \n",
      " 2   Income          255347 non-null  int64  \n",
      " 3   LoanAmount      255347 non-null  int64  \n",
      " 4   CreditScore     255347 non-null  int64  \n",
      " 5   MonthsEmployed  255347 non-null  int64  \n",
      " 6   NumCreditLines  255347 non-null  int64  \n",
      " 7   InterestRate    255347 non-null  float64\n",
      " 8   LoanTerm        255347 non-null  int64  \n",
      " 9   DTIRatio        255347 non-null  float64\n",
      " 10  Education       255347 non-null  object \n",
      " 11  EmploymentType  255347 non-null  object \n",
      " 12  MaritalStatus   255347 non-null  object \n",
      " 13  HasMortgage     255347 non-null  object \n",
      " 14  HasDependents   255347 non-null  object \n",
      " 15  LoanPurpose     255347 non-null  object \n",
      " 16  HasCoSigner     255347 non-null  object \n",
      " 17  Default         255347 non-null  int64  \n",
      "dtypes: float64(2), int64(8), object(8)\n",
      "memory usage: 35.1+ MB\n"
     ]
    }
   ],
   "source": [
    "dataset.info()"
   ]
  },
  {
   "cell_type": "code",
   "execution_count": 7,
   "id": "32362a44",
   "metadata": {},
   "outputs": [
    {
     "data": {
      "text/html": [
       "<div>\n",
       "<style scoped>\n",
       "    .dataframe tbody tr th:only-of-type {\n",
       "        vertical-align: middle;\n",
       "    }\n",
       "\n",
       "    .dataframe tbody tr th {\n",
       "        vertical-align: top;\n",
       "    }\n",
       "\n",
       "    .dataframe thead th {\n",
       "        text-align: right;\n",
       "    }\n",
       "</style>\n",
       "<table border=\"1\" class=\"dataframe\">\n",
       "  <thead>\n",
       "    <tr style=\"text-align: right;\">\n",
       "      <th></th>\n",
       "      <th>count</th>\n",
       "      <th>%</th>\n",
       "    </tr>\n",
       "  </thead>\n",
       "  <tbody>\n",
       "    <tr>\n",
       "      <th>LoanID</th>\n",
       "      <td>0</td>\n",
       "      <td>0.0</td>\n",
       "    </tr>\n",
       "    <tr>\n",
       "      <th>Age</th>\n",
       "      <td>0</td>\n",
       "      <td>0.0</td>\n",
       "    </tr>\n",
       "    <tr>\n",
       "      <th>HasCoSigner</th>\n",
       "      <td>0</td>\n",
       "      <td>0.0</td>\n",
       "    </tr>\n",
       "    <tr>\n",
       "      <th>LoanPurpose</th>\n",
       "      <td>0</td>\n",
       "      <td>0.0</td>\n",
       "    </tr>\n",
       "    <tr>\n",
       "      <th>HasDependents</th>\n",
       "      <td>0</td>\n",
       "      <td>0.0</td>\n",
       "    </tr>\n",
       "    <tr>\n",
       "      <th>HasMortgage</th>\n",
       "      <td>0</td>\n",
       "      <td>0.0</td>\n",
       "    </tr>\n",
       "    <tr>\n",
       "      <th>MaritalStatus</th>\n",
       "      <td>0</td>\n",
       "      <td>0.0</td>\n",
       "    </tr>\n",
       "    <tr>\n",
       "      <th>EmploymentType</th>\n",
       "      <td>0</td>\n",
       "      <td>0.0</td>\n",
       "    </tr>\n",
       "    <tr>\n",
       "      <th>Education</th>\n",
       "      <td>0</td>\n",
       "      <td>0.0</td>\n",
       "    </tr>\n",
       "    <tr>\n",
       "      <th>DTIRatio</th>\n",
       "      <td>0</td>\n",
       "      <td>0.0</td>\n",
       "    </tr>\n",
       "    <tr>\n",
       "      <th>LoanTerm</th>\n",
       "      <td>0</td>\n",
       "      <td>0.0</td>\n",
       "    </tr>\n",
       "    <tr>\n",
       "      <th>InterestRate</th>\n",
       "      <td>0</td>\n",
       "      <td>0.0</td>\n",
       "    </tr>\n",
       "    <tr>\n",
       "      <th>NumCreditLines</th>\n",
       "      <td>0</td>\n",
       "      <td>0.0</td>\n",
       "    </tr>\n",
       "    <tr>\n",
       "      <th>MonthsEmployed</th>\n",
       "      <td>0</td>\n",
       "      <td>0.0</td>\n",
       "    </tr>\n",
       "    <tr>\n",
       "      <th>CreditScore</th>\n",
       "      <td>0</td>\n",
       "      <td>0.0</td>\n",
       "    </tr>\n",
       "    <tr>\n",
       "      <th>LoanAmount</th>\n",
       "      <td>0</td>\n",
       "      <td>0.0</td>\n",
       "    </tr>\n",
       "    <tr>\n",
       "      <th>Income</th>\n",
       "      <td>0</td>\n",
       "      <td>0.0</td>\n",
       "    </tr>\n",
       "    <tr>\n",
       "      <th>Default</th>\n",
       "      <td>0</td>\n",
       "      <td>0.0</td>\n",
       "    </tr>\n",
       "  </tbody>\n",
       "</table>\n",
       "</div>"
      ],
      "text/plain": [
       "                count    %\n",
       "LoanID              0  0.0\n",
       "Age                 0  0.0\n",
       "HasCoSigner         0  0.0\n",
       "LoanPurpose         0  0.0\n",
       "HasDependents       0  0.0\n",
       "HasMortgage         0  0.0\n",
       "MaritalStatus       0  0.0\n",
       "EmploymentType      0  0.0\n",
       "Education           0  0.0\n",
       "DTIRatio            0  0.0\n",
       "LoanTerm            0  0.0\n",
       "InterestRate        0  0.0\n",
       "NumCreditLines      0  0.0\n",
       "MonthsEmployed      0  0.0\n",
       "CreditScore         0  0.0\n",
       "LoanAmount          0  0.0\n",
       "Income              0  0.0\n",
       "Default             0  0.0"
      ]
     },
     "execution_count": 7,
     "metadata": {},
     "output_type": "execute_result"
    }
   ],
   "source": [
    "#Explicitly Check for missing values\n",
    "missing = pd.concat([dataset.isnull().sum(), 100 * dataset.isnull().mean()], axis=1)\n",
    "missing.columns = ['count', '%']\n",
    "missing = missing.sort_values(by='count', ascending=False)\n",
    "missing"
   ]
  },
  {
   "cell_type": "markdown",
   "id": "253de68b",
   "metadata": {},
   "source": [
    "This assures that the data set does not have any missing values"
   ]
  },
  {
   "cell_type": "markdown",
   "id": "33904c03",
   "metadata": {},
   "source": [
    "### Examine Categorical Features <a id = 'Categorical'></a>"
   ]
  },
  {
   "cell_type": "code",
   "execution_count": 8,
   "id": "e8ae6239",
   "metadata": {},
   "outputs": [
    {
     "name": "stdout",
     "output_type": "stream",
     "text": [
      "[\"Bachelor's\" \"Master's\" 'High School' 'PhD']\n",
      "['Divorced' 'Married' 'Single']\n",
      "['Full-time' 'Unemployed' 'Self-employed' 'Part-time']\n",
      "['Other' 'Auto' 'Business' 'Home' 'Education']\n"
     ]
    }
   ],
   "source": [
    "#Checking for inconsistencies\n",
    "print(dataset['Education'].unique())\n",
    "print(dataset['MaritalStatus'].unique())\n",
    "print(dataset['EmploymentType'].unique())\n",
    "print(dataset['LoanPurpose'].unique())\n"
   ]
  },
  {
   "cell_type": "code",
   "execution_count": 9,
   "id": "c65e5fb4",
   "metadata": {},
   "outputs": [
    {
     "data": {
      "text/plain": [
       "Bachelor's     64366\n",
       "High School    63903\n",
       "Master's       63541\n",
       "PhD            63537\n",
       "Name: Education, dtype: int64"
      ]
     },
     "execution_count": 9,
     "metadata": {},
     "output_type": "execute_result"
    }
   ],
   "source": [
    "#Education\n",
    "dataset['Education'].value_counts()"
   ]
  },
  {
   "cell_type": "code",
   "execution_count": 10,
   "id": "1c7473f3",
   "metadata": {},
   "outputs": [
    {
     "data": {
      "text/plain": [
       "Married     85302\n",
       "Divorced    85033\n",
       "Single      85012\n",
       "Name: MaritalStatus, dtype: int64"
      ]
     },
     "execution_count": 10,
     "metadata": {},
     "output_type": "execute_result"
    }
   ],
   "source": [
    "# MaritalStatus\n",
    "dataset['MaritalStatus'].value_counts()"
   ]
  },
  {
   "cell_type": "code",
   "execution_count": 11,
   "id": "d58f51a5",
   "metadata": {},
   "outputs": [
    {
     "data": {
      "text/plain": [
       "Business     51298\n",
       "Home         51286\n",
       "Education    51005\n",
       "Other        50914\n",
       "Auto         50844\n",
       "Name: LoanPurpose, dtype: int64"
      ]
     },
     "execution_count": 11,
     "metadata": {},
     "output_type": "execute_result"
    }
   ],
   "source": [
    "#Loan Purpose\n",
    "dataset['LoanPurpose'].value_counts()"
   ]
  },
  {
   "cell_type": "code",
   "execution_count": 12,
   "id": "eb026725",
   "metadata": {},
   "outputs": [
    {
     "data": {
      "text/plain": [
       "Part-time        64161\n",
       "Unemployed       63824\n",
       "Self-employed    63706\n",
       "Full-time        63656\n",
       "Name: EmploymentType, dtype: int64"
      ]
     },
     "execution_count": 12,
     "metadata": {},
     "output_type": "execute_result"
    }
   ],
   "source": [
    "#Employment Type\n",
    "dataset['EmploymentType'].value_counts()"
   ]
  },
  {
   "cell_type": "markdown",
   "id": "f21f10a4",
   "metadata": {},
   "source": [
    "### Examine Numerical Features <a id = 'Numerical'></a>"
   ]
  },
  {
   "cell_type": "code",
   "execution_count": 13,
   "id": "a1283b56",
   "metadata": {},
   "outputs": [
    {
     "data": {
      "text/html": [
       "<div>\n",
       "<style scoped>\n",
       "    .dataframe tbody tr th:only-of-type {\n",
       "        vertical-align: middle;\n",
       "    }\n",
       "\n",
       "    .dataframe tbody tr th {\n",
       "        vertical-align: top;\n",
       "    }\n",
       "\n",
       "    .dataframe thead th {\n",
       "        text-align: right;\n",
       "    }\n",
       "</style>\n",
       "<table border=\"1\" class=\"dataframe\">\n",
       "  <thead>\n",
       "    <tr style=\"text-align: right;\">\n",
       "      <th></th>\n",
       "      <th>count</th>\n",
       "      <th>mean</th>\n",
       "      <th>std</th>\n",
       "      <th>min</th>\n",
       "      <th>25%</th>\n",
       "      <th>50%</th>\n",
       "      <th>75%</th>\n",
       "      <th>max</th>\n",
       "    </tr>\n",
       "  </thead>\n",
       "  <tbody>\n",
       "    <tr>\n",
       "      <th>Age</th>\n",
       "      <td>255347.0</td>\n",
       "      <td>43.498306</td>\n",
       "      <td>14.990258</td>\n",
       "      <td>18.0</td>\n",
       "      <td>31.00</td>\n",
       "      <td>43.00</td>\n",
       "      <td>56.00</td>\n",
       "      <td>69.0</td>\n",
       "    </tr>\n",
       "    <tr>\n",
       "      <th>Income</th>\n",
       "      <td>255347.0</td>\n",
       "      <td>82499.304597</td>\n",
       "      <td>38963.013729</td>\n",
       "      <td>15000.0</td>\n",
       "      <td>48825.50</td>\n",
       "      <td>82466.00</td>\n",
       "      <td>116219.00</td>\n",
       "      <td>149999.0</td>\n",
       "    </tr>\n",
       "    <tr>\n",
       "      <th>LoanAmount</th>\n",
       "      <td>255347.0</td>\n",
       "      <td>127578.865512</td>\n",
       "      <td>70840.706142</td>\n",
       "      <td>5000.0</td>\n",
       "      <td>66156.00</td>\n",
       "      <td>127556.00</td>\n",
       "      <td>188985.00</td>\n",
       "      <td>249999.0</td>\n",
       "    </tr>\n",
       "    <tr>\n",
       "      <th>CreditScore</th>\n",
       "      <td>255347.0</td>\n",
       "      <td>574.264346</td>\n",
       "      <td>158.903867</td>\n",
       "      <td>300.0</td>\n",
       "      <td>437.00</td>\n",
       "      <td>574.00</td>\n",
       "      <td>712.00</td>\n",
       "      <td>849.0</td>\n",
       "    </tr>\n",
       "    <tr>\n",
       "      <th>MonthsEmployed</th>\n",
       "      <td>255347.0</td>\n",
       "      <td>59.541976</td>\n",
       "      <td>34.643376</td>\n",
       "      <td>0.0</td>\n",
       "      <td>30.00</td>\n",
       "      <td>60.00</td>\n",
       "      <td>90.00</td>\n",
       "      <td>119.0</td>\n",
       "    </tr>\n",
       "    <tr>\n",
       "      <th>NumCreditLines</th>\n",
       "      <td>255347.0</td>\n",
       "      <td>2.501036</td>\n",
       "      <td>1.117018</td>\n",
       "      <td>1.0</td>\n",
       "      <td>2.00</td>\n",
       "      <td>2.00</td>\n",
       "      <td>3.00</td>\n",
       "      <td>4.0</td>\n",
       "    </tr>\n",
       "    <tr>\n",
       "      <th>InterestRate</th>\n",
       "      <td>255347.0</td>\n",
       "      <td>13.492773</td>\n",
       "      <td>6.636443</td>\n",
       "      <td>2.0</td>\n",
       "      <td>7.77</td>\n",
       "      <td>13.46</td>\n",
       "      <td>19.25</td>\n",
       "      <td>25.0</td>\n",
       "    </tr>\n",
       "    <tr>\n",
       "      <th>LoanTerm</th>\n",
       "      <td>255347.0</td>\n",
       "      <td>36.025894</td>\n",
       "      <td>16.969330</td>\n",
       "      <td>12.0</td>\n",
       "      <td>24.00</td>\n",
       "      <td>36.00</td>\n",
       "      <td>48.00</td>\n",
       "      <td>60.0</td>\n",
       "    </tr>\n",
       "    <tr>\n",
       "      <th>DTIRatio</th>\n",
       "      <td>255347.0</td>\n",
       "      <td>0.500212</td>\n",
       "      <td>0.230917</td>\n",
       "      <td>0.1</td>\n",
       "      <td>0.30</td>\n",
       "      <td>0.50</td>\n",
       "      <td>0.70</td>\n",
       "      <td>0.9</td>\n",
       "    </tr>\n",
       "    <tr>\n",
       "      <th>Default</th>\n",
       "      <td>255347.0</td>\n",
       "      <td>0.116128</td>\n",
       "      <td>0.320379</td>\n",
       "      <td>0.0</td>\n",
       "      <td>0.00</td>\n",
       "      <td>0.00</td>\n",
       "      <td>0.00</td>\n",
       "      <td>1.0</td>\n",
       "    </tr>\n",
       "  </tbody>\n",
       "</table>\n",
       "</div>"
      ],
      "text/plain": [
       "                   count           mean           std      min       25%  \\\n",
       "Age             255347.0      43.498306     14.990258     18.0     31.00   \n",
       "Income          255347.0   82499.304597  38963.013729  15000.0  48825.50   \n",
       "LoanAmount      255347.0  127578.865512  70840.706142   5000.0  66156.00   \n",
       "CreditScore     255347.0     574.264346    158.903867    300.0    437.00   \n",
       "MonthsEmployed  255347.0      59.541976     34.643376      0.0     30.00   \n",
       "NumCreditLines  255347.0       2.501036      1.117018      1.0      2.00   \n",
       "InterestRate    255347.0      13.492773      6.636443      2.0      7.77   \n",
       "LoanTerm        255347.0      36.025894     16.969330     12.0     24.00   \n",
       "DTIRatio        255347.0       0.500212      0.230917      0.1      0.30   \n",
       "Default         255347.0       0.116128      0.320379      0.0      0.00   \n",
       "\n",
       "                      50%        75%       max  \n",
       "Age                 43.00      56.00      69.0  \n",
       "Income           82466.00  116219.00  149999.0  \n",
       "LoanAmount      127556.00  188985.00  249999.0  \n",
       "CreditScore        574.00     712.00     849.0  \n",
       "MonthsEmployed      60.00      90.00     119.0  \n",
       "NumCreditLines       2.00       3.00       4.0  \n",
       "InterestRate        13.46      19.25      25.0  \n",
       "LoanTerm            36.00      48.00      60.0  \n",
       "DTIRatio             0.50       0.70       0.9  \n",
       "Default              0.00       0.00       1.0  "
      ]
     },
     "execution_count": 13,
     "metadata": {},
     "output_type": "execute_result"
    }
   ],
   "source": [
    "# Summary Statistics\n",
    "dataset.describe().T"
   ]
  },
  {
   "cell_type": "markdown",
   "id": "1e743c39",
   "metadata": {},
   "source": [
    "**1.\tAge:**\n",
    "-  The average age is approximately 43.5 years.\n",
    "-  The age values vary around the mean by approximately 15 years.\n",
    "-  The minimum age is 18 years and aximum age is 69 years.\n",
    "-  25% of the individuals are below the age of 31.\n",
    "-  The median age is 43 years.\n",
    "-  75% of the individuals are below the age of 56.\n",
    "</br>\n",
    "</br>\n",
    "\n",
    "**2.\tIncome:**\n",
    "-  The average income is approximately 82,499.\n",
    "-  Incomes vary around the mean by approximately $38,963.\n",
    "-  The minimum income is 15,000 and maximum income is 149,999.\n",
    "-  25% of the individuals have an income below 48,825.50.\n",
    "-  The median income is 82,466.\n",
    "-  75% of the individuals have an income below 116,219.\n",
    "</br>\n",
    "</br>\n",
    "\n",
    "**3.\tLoan Amount:**\n",
    "-  The average loan amount is approximately 127,579.\n",
    "-  Loan amounts vary around the mean by approximately 70,840.\n",
    "-  The minimum loan amount is 5,000 and maximum loan amount is 249,999.\n",
    "-  25% of the loans have amounts below 66,156.\n",
    "-  The median loan amount is 127,556.\n",
    "-  75% of the loans have amounts below 188,985.\n",
    "</br>\n",
    "</br>\n",
    "\n",
    "**4.\tLoan Term:**\n",
    "-  The average loan term is approximately 36.03 months.\n",
    "-  Loan terms vary around the mean by approximately 16.97 months.\n",
    "-  The minimum loan term is 12 months and maximum loan term is 60 months.\n",
    "-  25% of the loans have terms below 24 months.\n",
    "-  The median loan term is 36 months.\n",
    "-  75% of the loans have terms below 48 months."
   ]
  },
  {
   "cell_type": "markdown",
   "id": "d858cdae",
   "metadata": {},
   "source": [
    "Visualize The numerical data spread"
   ]
  },
  {
   "cell_type": "code",
   "execution_count": 14,
   "id": "41113342",
   "metadata": {},
   "outputs": [
    {
     "data": {
      "image/png": "[encoded data removed]",
      "text/plain": [
       "<Figure size 1000x800 with 6 Axes>"
      ]
     },
     "metadata": {},
     "output_type": "display_data"
    }
   ],
   "source": [
    "selected_columns = ['CreditScore', 'Income', 'LoanAmount', 'MonthsEmployed', 'InterestRate', 'DTIRatio']\n",
    "\n",
    "# Select the subset of columns for exploration\n",
    "selected_data = dataset[selected_columns]\n",
    "\n",
    "# Set the style of seaborn\n",
    "sns.set(style=\"white\")\n",
    "\n",
    "# Create a figure with subplots\n",
    "fig, axes = plt.subplots(nrows=len(selected_columns), ncols=1, figsize=(10, 8))\n",
    "\n",
    "# Draw box plots for each selected column\n",
    "for i, column in enumerate(selected_columns):\n",
    "    sns.boxplot(x=selected_data[column], ax=axes[i], orient='h', color='skyblue')\n",
    "    axes[i].set_title(f'Box Plot of {column}')\n",
    "\n",
    "# Adjust the layout\n",
    "plt.tight_layout()\n",
    "\n",
    "# Show plot\n",
    "plt.show()\n"
   ]
  },
  {
   "cell_type": "markdown",
   "id": "a09c4273",
   "metadata": {},
   "source": [
    "Based on these box plots, I do not see anomalies and signigicant outliers. "
   ]
  },
  {
   "cell_type": "markdown",
   "id": "813e394e",
   "metadata": {},
   "source": [
    "The next step is Exploratory Data Analysis, in which I will explore the dataset to find patterns and gain more indepth insights into the data. The findings in the EDA will assist in the preparation for data modeling."
   ]
  }
 ],
 "metadata": {
  "kernelspec": {
   "display_name": "Python 3 (ipykernel)",
   "language": "python",
   "name": "python3"
  },
  "language_info": {
   "codemirror_mode": {
    "name": "ipython",
    "version": 3
   },
   "file_extension": ".py",
   "mimetype": "text/x-python",
   "name": "python",
   "nbconvert_exporter": "python",
   "pygments_lexer": "ipython3",
   "version": "3.11.4"
  }
 },
 "nbformat": 4,
 "nbformat_minor": 5
}
